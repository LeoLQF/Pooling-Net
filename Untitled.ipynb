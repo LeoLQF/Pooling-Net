{
 "cells": [
  {
   "cell_type": "code",
   "execution_count": 3,
   "metadata": {
    "collapsed": true
   },
   "outputs": [],
   "source": [
    "from __future__ import absolute_import, division, print_function\n",
    "\n",
    "import tensorflow as tf\n",
    "import tflearn\n",
    "import numpy as np"
   ]
  },
  {
   "cell_type": "code",
   "execution_count": 4,
   "metadata": {
    "collapsed": true
   },
   "outputs": [],
   "source": [
    "#产生随机数计算最大值和平均值\n",
    "X = np.random.random([100000,4])\n",
    "Y = np.mean(X,axis=1).reshape(100000,1)           \n",
    "Y_max = np.max(X,axis=1).reshape(100000,-1)"
   ]
  },
  {
   "cell_type": "code",
   "execution_count": 5,
   "metadata": {},
   "outputs": [
    {
     "data": {
      "text/plain": [
       "<module 'tflearn' from '/home/lqf/anaconda2/lib/python2.7/site-packages/tflearn-0.3.2-py2.7.egg/tflearn/__init__.pyc'>"
      ]
     },
     "execution_count": 5,
     "metadata": {},
     "output_type": "execute_result"
    }
   ],
   "source": [
    "import sys\n",
    "sys.modules['tflearn']"
   ]
  },
  {
   "cell_type": "code",
   "execution_count": null,
   "metadata": {},
   "outputs": [
    {
     "name": "stdout",
     "output_type": "stream",
     "text": [
      "Training Step: 305544  | total loss: \u001b[1m\u001b[32m0.01174\u001b[0m\u001b[0m | time: 1.337s\n",
      "\u001b[2K\r",
      "| SGD | epoch: 196 | loss: 0.01174 -- iter: 048576/100000\n"
     ]
    }
   ],
   "source": [
    "# Graph definition\n",
    "with tf.Graph().as_default():\n",
    "    g = tflearn.input_data(shape=[None, 4])\n",
    "    \n",
    "    #exp, log, linear, tanh, sigmoid, softmax, softplus, softsign, relu, relu6, leaky_relu, prelu, elu, crelu, selu\n",
    "    #g = tflearn.fully_connected(g, 4, activation='Sigmoid')  #exp Sigmoid\n",
    "    g = tflearn.fully_connected(g, 4, activation='relu')\n",
    "    g = tflearn.fully_connected(g, 8, activation='relu')\n",
    "    g = tflearn.fully_connected(g, 1, activation='relu')  \n",
    "    \n",
    "    \n",
    "    #g = tflearn.fully_connected(g, 1, activation='relu')\n",
    "    g = tflearn.regression(g, optimizer='sgd', learning_rate=0.1,\n",
    "                           loss='mean_square')\n",
    "\n",
    "    # Model training\n",
    "    m = tflearn.DNN(g)\n",
    "    m.fit(X, Y_max, n_epoch=1000, snapshot_epoch=False)\n",
    "    \n",
    "    # Test model\n",
    "    xp = np.random.random([4,4])\n",
    "    print (xp)\n",
    "    print (np.max(xp,axis=1))\n",
    "    print (m.predict(xp).reshape(1,4))"
   ]
  },
  {
   "cell_type": "code",
   "execution_count": 9,
   "metadata": {},
   "outputs": [
    {
     "name": "stdout",
     "output_type": "stream",
     "text": [
      "[[ 0.71226646  0.03866914  0.75043098  0.84869814]\n",
      " [ 0.13401802  0.46302866  0.72345063  0.73552996]\n",
      " [ 0.86450438  0.23745716  0.5263041   0.40052693]\n",
      " [ 0.6780293   0.2916992   0.2030548   0.62338737]]\n",
      "[ 0.84869814  0.73552996  0.86450438  0.6780293 ]\n",
      "[[ 0.92437041  0.78966045  0.79834455  0.70467514]]\n"
     ]
    }
   ],
   "source": [
    "    xp = np.random.random([4,4])\n",
    "    print (xp)\n",
    "    print (np.max(xp,axis=1))\n",
    "    print (m.predict(xp).reshape(1,4))"
   ]
  },
  {
   "cell_type": "code",
   "execution_count": null,
   "metadata": {
    "collapsed": true
   },
   "outputs": [],
   "source": []
  }
 ],
 "metadata": {
  "kernelspec": {
   "display_name": "Python 2",
   "language": "python",
   "name": "python2"
  },
  "language_info": {
   "codemirror_mode": {
    "name": "ipython",
    "version": 2
   },
   "file_extension": ".py",
   "mimetype": "text/x-python",
   "name": "python",
   "nbconvert_exporter": "python",
   "pygments_lexer": "ipython2",
   "version": "2.7.13"
  }
 },
 "nbformat": 4,
 "nbformat_minor": 2
}
