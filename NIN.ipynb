{
 "cells": [
  {
   "cell_type": "code",
   "execution_count": 1,
   "metadata": {
    "collapsed": true
   },
   "outputs": [],
   "source": [
    "# -*- coding: utf-8 -*-\n",
    "\n",
    "\"\"\" Network In Network.\n",
    "Applying 'Network In Network' to CIFAR-10 classification task.\n",
    "References:\n",
    "    Network In Network. Min Li, Qiang Chen & Shuicheng Yan, 2014.\n",
    "Links:\n",
    "    http://arxiv.org/pdf/1312.4400v3.pdf\n",
    "\"\"\"\n",
    "\n",
    "from __future__ import division, print_function, absolute_import\n",
    "\n",
    "import tflearn\n",
    "from tflearn.data_utils import shuffle, to_categorical\n",
    "from tflearn.layers.core import input_data, dropout, flatten\n",
    "from tflearn.layers.conv import conv_2d, max_pool_2d, avg_pool_2d\n",
    "from tflearn.layers.estimator import regression\n"
   ]
  },
  {
   "cell_type": "code",
   "execution_count": 2,
   "metadata": {
    "collapsed": true
   },
   "outputs": [],
   "source": [
    "# Data loading and preprocessing\n",
    "from tflearn.datasets import cifar10\n",
    "(X, Y), (X_test, Y_test) = cifar10.load_data()\n",
    "X, Y = shuffle(X, Y)\n",
    "Y = to_categorical(Y, 10)\n",
    "Y_test = to_categorical(Y_test, 10)"
   ]
  },
  {
   "cell_type": "code",
   "execution_count": 3,
   "metadata": {
    "collapsed": true
   },
   "outputs": [],
   "source": [
    "# Building 'Network In Network'\n",
    "network = input_data(shape=[None, 32, 32, 3])\n",
    "network = conv_2d(network, 192, 5, activation='relu')\n",
    "network = conv_2d(network, 160, 1, activation='relu')\n",
    "network = conv_2d(network, 96, 1, activation='relu')\n",
    "\n",
    "#network = max_pool_2d(network, 3, strides=2)\n",
    "#network = conv_2d(network, 4, 2, strides=[1,2,2,1], activation='relu')\n",
    "#network = conv_2d(network, 1, 1, activation='relu')\n",
    "\n",
    "network = conv_2d(network, 16, 2, strides=[1,2,2,1], activation='relu')\n",
    "network = conv_2d(network, 16, 1, activation='relu')\n",
    "network = conv_2d(network, 1, 1, activation='relu')\n",
    "\n",
    "network = dropout(network, 0.5)\n",
    "network = conv_2d(network, 192, 5, activation='relu')\n",
    "network = conv_2d(network, 192, 1, activation='relu')\n",
    "network = conv_2d(network, 192, 1, activation='relu')\n",
    "\n",
    "#network = avg_pool_2d(network, 3, strides=2)\n",
    "#network = conv_2d(network, 4, 2, strides=[1,2,2,1], activation='relu')\n",
    "#network = conv_2d(network, 1, 1, activation='relu')\n",
    "\n",
    "network = conv_2d(network, 16, 2, strides=[1,2,2,1], activation='relu')\n",
    "network = conv_2d(network, 16, 1, activation='relu')\n",
    "network = conv_2d(network, 1, 1, activation='relu')\n",
    "\n",
    "\n",
    "network = dropout(network, 0.5)\n",
    "network = conv_2d(network, 192, 3, activation='relu')\n",
    "network = conv_2d(network, 192, 1, activation='relu')\n",
    "network = conv_2d(network, 10, 1, activation='relu')\n",
    "network = avg_pool_2d(network, 8)\n",
    "network = flatten(network)\n",
    "network = regression(network, optimizer='adam',\n",
    "                     loss='softmax_categorical_crossentropy',\n",
    "                     learning_rate=0.001)\n"
   ]
  },
  {
   "cell_type": "code",
   "execution_count": null,
   "metadata": {},
   "outputs": [
    {
     "name": "stdout",
     "output_type": "stream",
     "text": [
      "Training Step: 1804  | total loss: \u001b[1m\u001b[32m2.30259\u001b[0m\u001b[0m | time: 140.507s\n",
      "\u001b[2K\r",
      "| Adam | epoch: 005 | loss: 2.30259 - acc: 0.0928 -- iter: 30720/50000\n"
     ]
    }
   ],
   "source": [
    "# Training\n",
    "model = tflearn.DNN(network)\n",
    "model.fit(X, Y, n_epoch=50, shuffle=True, validation_set=(X_test, Y_test),\n",
    "          show_metric=True, batch_size=128, run_id='cifar10_net_in_net')\n"
   ]
  },
  {
   "cell_type": "code",
   "execution_count": null,
   "metadata": {
    "collapsed": true
   },
   "outputs": [],
   "source": []
  }
 ],
 "metadata": {
  "kernelspec": {
   "display_name": "Python 2",
   "language": "python",
   "name": "python2"
  },
  "language_info": {
   "codemirror_mode": {
    "name": "ipython",
    "version": 2
   },
   "file_extension": ".py",
   "mimetype": "text/x-python",
   "name": "python",
   "nbconvert_exporter": "python",
   "pygments_lexer": "ipython2",
   "version": "2.7.13"
  }
 },
 "nbformat": 4,
 "nbformat_minor": 2
}
