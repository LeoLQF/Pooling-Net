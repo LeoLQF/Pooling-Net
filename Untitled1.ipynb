{
 "cells": [
  {
   "cell_type": "code",
   "execution_count": 9,
   "metadata": {
    "collapsed": true
   },
   "outputs": [],
   "source": [
    "from __future__ import absolute_import, division, print_function\n",
    "\n",
    "import tensorflow as tf\n",
    "import tflearn\n",
    "import numpy as np"
   ]
  },
  {
   "cell_type": "code",
   "execution_count": 10,
   "metadata": {
    "collapsed": true
   },
   "outputs": [],
   "source": [
    "#产生随机数计算最大值和平均值\n",
    "X = np.random.random([10000,4])\n",
    "Y = np.mean(X,axis=1).reshape(10000,1)           \n",
    "Y_max = np.max(X,axis=1).reshape(10000,-1)"
   ]
  },
  {
   "cell_type": "code",
   "execution_count": 11,
   "metadata": {},
   "outputs": [
    {
     "data": {
      "text/plain": [
       "<module 'tflearn' from '/home/lqf/anaconda2/lib/python2.7/site-packages/tflearn-0.3.2-py2.7.egg/tflearn/__init__.pyc'>"
      ]
     },
     "execution_count": 11,
     "metadata": {},
     "output_type": "execute_result"
    }
   ],
   "source": [
    "import sys\n",
    "sys.modules['tflearn']"
   ]
  },
  {
   "cell_type": "code",
   "execution_count": 12,
   "metadata": {},
   "outputs": [
    {
     "name": "stdout",
     "output_type": "stream",
     "text": [
      "Training Step: 15700  | total loss: \u001b[1m\u001b[32m0.01253\u001b[0m\u001b[0m | time: 0.452s\n",
      "| SGD | epoch: 100 | loss: 0.01253 -- iter: 10000/10000\n",
      "[[ 0.10380083  0.75216074  0.76729143  0.72973524]\n",
      " [ 0.72111119  0.10343778  0.77462344  0.83432984]\n",
      " [ 0.17694281  0.09307628  0.44974347  0.27292624]\n",
      " [ 0.62135664  0.77006772  0.77635613  0.65472414]]\n",
      "[ 0.76729143  0.83432984  0.44974347  0.77635613]\n",
      "[[ 0.87198031  0.89161897  0.57639748  0.95438564]]\n"
     ]
    }
   ],
   "source": [
    "# Graph definition\n",
    "with tf.Graph().as_default():\n",
    "    g = tflearn.input_data(shape=[None, 4])\n",
    "    \n",
    "    #exp, log, linear, tanh, sigmoid, softmax, softplus, softsign, relu, relu6, leaky_relu, prelu, elu, crelu, selu\n",
    "    #g = tflearn.fully_connected(g, 4, activation='Sigmoid')  #exp Sigmoid\n",
    "    g = tflearn.fully_connected(g, 16, activation='exp')\n",
    "    g = tflearn.fully_connected(g, 1, activation='log')  \n",
    "    \n",
    "    \n",
    "    #g = tflearn.fully_connected(g, 1, activation='relu')\n",
    "    g = tflearn.regression(g, optimizer='sgd', learning_rate=0.01,\n",
    "                           loss='mean_square')\n",
    "\n",
    "    # Model training\n",
    "    m = tflearn.DNN(g)\n",
    "    m.fit(X, Y_max, n_epoch=100, snapshot_epoch=False)\n",
    "    \n",
    "    # Test model\n",
    "    xp = np.random.random([4,4])\n",
    "    print (xp)\n",
    "    print (np.max(xp,axis=1))\n",
    "    print (m.predict(xp).reshape(1,4))"
   ]
  },
  {
   "cell_type": "code",
   "execution_count": null,
   "metadata": {
    "collapsed": true
   },
   "outputs": [],
   "source": []
  }
 ],
 "metadata": {
  "kernelspec": {
   "display_name": "Python 2",
   "language": "python",
   "name": "python2"
  },
  "language_info": {
   "codemirror_mode": {
    "name": "ipython",
    "version": 2
   },
   "file_extension": ".py",
   "mimetype": "text/x-python",
   "name": "python",
   "nbconvert_exporter": "python",
   "pygments_lexer": "ipython2",
   "version": "2.7.13"
  }
 },
 "nbformat": 4,
 "nbformat_minor": 2
}
